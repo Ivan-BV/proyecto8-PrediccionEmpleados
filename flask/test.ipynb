{
 "cells": [
  {
   "cell_type": "code",
   "execution_count": 1,
   "metadata": {},
   "outputs": [
    {
     "name": "stdout",
     "output_type": "stream",
     "text": [
      "Respuesta de la API:\n",
      "{'prediccion': 1, 'probabilidad': 0.9769230769230769}\n"
     ]
    }
   ],
   "source": [
    "import requests\n",
    "\n",
    "input_pred = {'Age': 40,\n",
    " 'Gender': 'Female',\n",
    " 'AnnualIncome': 66120.26793867795,\n",
    " 'NumberOfPurchases': 8,\n",
    " 'ProductCategory': 'Electronics',\n",
    " 'TimeSpentOnWebsite': 30.56860115599193,\n",
    " 'LoyaltyProgram': 'No',\n",
    " 'DiscountsAvailed': 5}\n",
    "\n",
    "\n",
    "# URL de la API\n",
    "url = \"http://127.0.0.1:5000/predict\"\n",
    "\n",
    "# Realizar la solicitud POST\n",
    "response = requests.post(url, json = input_pred)\n",
    "\n",
    "# Verificar la respuesta\n",
    "if response.status_code == 200:\n",
    "    print(\"Respuesta de la API:\")\n",
    "    print(response.json())\n",
    "else:\n",
    "    print(f\"Error {response.status_code}: {response.text}\")"
   ]
  },
  {
   "cell_type": "code",
   "execution_count": null,
   "metadata": {},
   "outputs": [],
   "source": []
  }
 ],
 "metadata": {
  "kernelspec": {
   "display_name": "contenido",
   "language": "python",
   "name": "python3"
  },
  "language_info": {
   "codemirror_mode": {
    "name": "ipython",
    "version": 3
   },
   "file_extension": ".py",
   "mimetype": "text/x-python",
   "name": "python",
   "nbconvert_exporter": "python",
   "pygments_lexer": "ipython3",
   "version": "3.11.8"
  }
 },
 "nbformat": 4,
 "nbformat_minor": 2
}
